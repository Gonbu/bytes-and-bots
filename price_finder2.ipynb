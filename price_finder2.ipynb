{
 "cells": [
  {
   "cell_type": "code",
   "execution_count": null,
   "id": "initial_id",
   "metadata": {
    "collapsed": true,
    "is_executing": true
   },
   "outputs": [],
   "source": [
    "import pandas as pd\n",
    "\n",
    "df = pd.read_csv('resources/train.csv')"
   ]
  },
  {
   "cell_type": "markdown",
   "source": [
    "# Exploratory Data Analysis"
   ],
   "metadata": {
    "collapsed": false
   },
   "id": "5379bc1e880e7c9b"
  },
  {
   "cell_type": "code",
   "outputs": [],
   "source": [
    "df.info()"
   ],
   "metadata": {
    "collapsed": false,
    "is_executing": true
   },
   "id": "7f3a1e0ade8a4b97",
   "execution_count": null
  },
  {
   "cell_type": "markdown",
   "source": [
    "There are 81 columns in the dataset and the dataset contains 1460 rows. The label is SalePrice\n",
    "\n",
    "There's no doublon in the dataset but a lot of NA values.\n",
    "\n",
    "The columns with many missing values are: PoolQC(NA => No Pool), Fence(NA => No Fence), MiscFeature, MasVnrType, Alley (around 50% of missing values)\n",
    "\n",
    "The columns that seems to be useless are: Id, YrSold, PoolArea, Utilities, LandContour, Street, LandSlope, LotConfig(pas sûr)"
   ],
   "metadata": {
    "collapsed": false
   },
   "id": "f76df15d0817fc17"
  },
  {
   "cell_type": "markdown",
   "source": [
    "# Data Preprocessing and encoding"
   ],
   "metadata": {
    "collapsed": false
   },
   "id": "4d17603a2a8f5af"
  },
  {
   "cell_type": "code",
   "outputs": [],
   "source": [
    "df = df[df['SalePrice'] <= 400000]"
   ],
   "metadata": {
    "collapsed": false,
    "is_executing": true
   },
   "id": "273f9b504bacc47a",
   "execution_count": null
  },
  {
   "cell_type": "code",
   "outputs": [],
   "source": [
    "from sklearn.preprocessing import StandardScaler, OneHotEncoder\n",
    "from sklearn.model_selection import train_test_split\n",
    "import pandas as pd\n",
    "\n",
    "# Selecting features\n",
    "selected_features_winner = ['GrLivArea', 'TotalBsmtSF', '1stFlrSF', 'YearBuilt', 'FullBath', 'TotRmsAbvGrd',\n",
    "                            'YearRemodAdd',\n",
    "                            'GarageArea', 'LotArea', 'OverallCond', 'OverallQual', 'Neighborhood', 'KitchenQual',\n",
    "                            'ExterQual',\n",
    "                            'GarageCars', 'Foundation', 'BsmtQual', 'RoofStyle', 'BsmtExposure', 'SalePrice']\n",
    "\n",
    "selected_features = ['OverallQual', 'YearBuilt', 'YearRemodAdd', 'MasVnrArea', 'TotalBsmtSF', '1stFlrSF', 'GrLivArea',\n",
    "                     'FullBath', 'TotRmsAbvGrd', 'Fireplaces', 'GarageYrBlt', 'GarageCars', 'GarageArea', 'SalePrice',\n",
    "                     'LotFrontage', 'LotArea', 'LotShape', 'BsmtFinSF1', 'BsmtUnfSF', '2ndFlrSF', 'BsmtFullBath',\n",
    "                     'HalfBath', 'BedroomAbvGr', 'FireplaceQu', 'WoodDeckSF', 'OpenPorchSF', 'Neighborhood',\n",
    "                     'Foundation', 'BsmtQual', 'KitchenQual', 'BsmtExposure', 'ExterQual']\n",
    "\n",
    "# Subsetting dataframe\n",
    "df = df[selected_features]\n",
    "\n",
    "# Filling missing values\n",
    "# df['LotFrontage'] = df['LotFrontage'].fillna(df['LotFrontage'].median())\n",
    "# df['MasVnrArea'] = df['MasVnrArea'].fillna(df['MasVnrArea'].median())\n",
    "# df['GarageYrBlt'] = df['GarageYrBlt'].fillna(df['GarageYrBlt'].median())\n",
    "# df['BsmtFinSF1'] = df['BsmtFinSF1'].fillna(df['BsmtFinSF1'].median())\n",
    "# df['BsmtUnfSF'] = df['BsmtUnfSF'].fillna(df['BsmtUnfSF'].mean())\n",
    "# df['2ndFlrSF'] = df['2ndFlrSF'].fillna(df['2ndFlrSF'].mean())\n",
    "# df['BsmtFullBath'] = df['BsmtFullBath'].fillna(df['BsmtFullBath'].mean())\n",
    "# df['HalfBath'] = df['HalfBath'].fillna(df['HalfBath'].mean())\n",
    "# df['FireplaceQu'] = df['FireplaceQu'].fillna('No')\n",
    "# df['BsmtQual'] = df['BsmtQual'].fillna('No')\n",
    "# df['BsmtExposure'] = df['BsmtExposure'].fillna('None')\n",
    "\n",
    "df_num = df.select_dtypes(include=['float64', 'int64'])\n",
    "for colonne in df_num.columns:\n",
    "    df[colonne] = df[colonne].fillna(df[colonne].mean())\n",
    "\n",
    "# Filling missing String object values\n",
    "df_obj = df.select_dtypes(include=['object'])\n",
    "for colonne in df_obj.columns:\n",
    "    df[colonne] = df[colonne].fillna('NONE')\n",
    "\n",
    "\n",
    "print(df.isna().sum().nlargest(80))\n",
    "\n",
    "# Separating target variable\n",
    "X = df.drop(columns='SalePrice')\n",
    "y = df['SalePrice']\n",
    "\n",
    "# One-hot encoding categorical features\n",
    "one_hot_encoder = OneHotEncoder()\n",
    "X_encoded = one_hot_encoder.fit_transform(X.select_dtypes(include=['object', 'int64', 'float64']))\n",
    "\n",
    "# Scaling numerical features\n",
    "scaler = StandardScaler()\n",
    "X_scaled = scaler.fit_transform(X.select_dtypes(exclude=['object']))\n",
    "\n",
    "# Concatenating encoded categorical features and scaled numerical features\n",
    "X_preprocessed = pd.concat([pd.DataFrame(X_encoded.toarray()), pd.DataFrame(X_scaled)], axis=1)\n",
    "\n",
    "# Splitting dataset into training and testing sets\n",
    "X_train, X_test, y_train, y_test = train_test_split(X_preprocessed, y, test_size=0.1, random_state=42)\n"
   ],
   "metadata": {
    "collapsed": false,
    "is_executing": true
   },
   "id": "830996353379a5b3",
   "execution_count": null
  },
  {
   "cell_type": "markdown",
   "source": [
    "# Training the model"
   ],
   "metadata": {
    "collapsed": false
   },
   "id": "93bc64a05bb5cff3"
  },
  {
   "cell_type": "code",
   "outputs": [],
   "source": [
    "from sklearn.linear_model import Lasso, ElasticNet\n",
    "from sklearn.ensemble import RandomForestRegressor\n",
    "from sklearn.ensemble import GradientBoostingRegressor, StackingRegressor\n",
    "\n",
    "# Initialize the model -> Lasso is the most effective\n",
    "model_lasso = Lasso(max_iter=30000)\n",
    "model_rfg = RandomForestRegressor(random_state=42)\n",
    "model2 = GradientBoostingRegressor(learning_rate=0.1, n_estimators=500, max_depth=10, random_state=42)\n",
    "#model_elastic = ElasticNet(alpha=0.1, l1_ratio=0.5, random_state=42)\n",
    "\n",
    "# Train the model\n",
    "model_lasso.fit(X_train, y_train)\n",
    "model_rfg.fit(X_train, y_train)\n",
    "model2.fit(X_train, y_train)\n",
    "#model_elastic.fit(X_train, y_train)\n",
    "\n",
    "# Retrieve the model's predictions\n",
    "y_pred_lasso = model_lasso.predict(X_test)\n",
    "y_pred_rfg = model_rfg.predict(X_test)\n",
    "y_pred2 = model2.predict(X_test)\n",
    "#y_pred_elastic = model_elastic.predict(X_test)\n",
    "\n",
    "#y_pred = (y_pred_lasso + y_pred_rfg) / 2\n",
    "y_pred = (y_pred_lasso + y_pred2 +y_pred_rfg) / 3"
   ],
   "metadata": {
    "collapsed": false,
    "is_executing": true
   },
   "id": "56a641dee6451eef",
   "execution_count": null
  },
  {
   "cell_type": "code",
   "outputs": [],
   "source": [
    "from sklearn.metrics import mean_absolute_error, mean_squared_error, mean_absolute_percentage_error, r2_score, \\\n",
    "    mean_squared_log_error, root_mean_squared_log_error\n",
    "import numpy as np\n",
    "\n",
    "mae = mean_absolute_error(y_test, y_pred)\n",
    "\n",
    "mape = mean_absolute_percentage_error(y_test, y_pred)\n",
    "\n",
    "mape_percentage = np.abs((y_test - y_pred) / y_test).mean() * 100\n",
    "\n",
    "msle = mean_squared_log_error(y_test, y_pred)\n",
    "\n",
    "rmse = np.sqrt(mean_squared_error(y_test, y_pred))\n",
    "rmse_percentage = (rmse / y_test.mean()) * 100\n",
    "\n",
    "r2 = r2_score(y_test, y_pred)\n",
    "\n",
    "rmsle = root_mean_squared_log_error(y_test, y_pred)\n",
    "\n",
    "print(\"Erreur absolue moyenne (MAE):\", mae)\n",
    "print(\"Erreur absolue moyenne en pourcentage (MAPE):\", mape)\n",
    "print(\"MAPE en pourcentage:\", mape_percentage)\n",
    "\n",
    "print(\"Erreur quadratique moyenne (RMSE):\", rmse)\n",
    "print(\"RMSE en pourcentage:\", rmse_percentage)\n",
    "\n",
    "print(\"Erreur quadratique moyenne logarithmique (MSLE):\", msle)\n",
    "\n",
    "print(\"Coefficient de détermination (R2):\", r2)\n",
    "print(\"Pourcentage de précision:\", r2 * 100)\n",
    "\n",
    "print('RMSLE : ', rmsle)"
   ],
   "metadata": {
    "collapsed": false,
    "is_executing": true
   },
   "id": "b2605925ddea043",
   "execution_count": null
  },
  {
   "cell_type": "code",
   "outputs": [],
   "source": [
    "import matplotlib.pyplot as plt\n",
    "import seaborn as sns\n",
    "\n",
    "# Scatter plot des prédictions par rapport aux vraies valeurs\n",
    "plt.figure(figsize=(8, 6))\n",
    "plt.scatter(y_test, y_pred)\n",
    "plt.xlabel('True Values')\n",
    "plt.ylabel('Predictions')\n",
    "plt.title('Scatter Plot of True Values vs Predictions')\n",
    "plt.show()\n",
    "\n",
    "# Histogramme des résidus\n",
    "residuals = y_test - y_pred\n",
    "plt.figure(figsize=(8, 6))\n",
    "sns.histplot(residuals, kde=True)\n",
    "plt.xlabel('Residuals')\n",
    "plt.ylabel('Frequency')\n",
    "plt.title('Histogram of Residuals')\n",
    "plt.show()\n",
    "\n",
    "# Courbe de densité des résidus\n",
    "plt.figure(figsize=(8, 6))\n",
    "sns.kdeplot(residuals, fill=True)\n",
    "plt.xlabel('Residuals')\n",
    "plt.ylabel('Density')\n",
    "plt.title('Density Plot of Residuals')\n",
    "plt.show()"
   ],
   "metadata": {
    "collapsed": false,
    "is_executing": true
   },
   "id": "830eb62b4da98cfc",
   "execution_count": null
  },
  {
   "cell_type": "code",
   "outputs": [],
   "source": [
    "# Pourcentage d'écart moyen\n",
    "diff = np.abs(y_test - y_pred)\n",
    "\n",
    "# Calculer l'écart moyen\n",
    "ecart_moyen = np.mean(diff)\n",
    "\n",
    "max_ecart = np.max(diff)\n",
    "min_ecart = np.min(diff)\n",
    "\n",
    "# Calculer la moyenne de y_val\n",
    "moyenne_y_val = np.mean(y_test)\n",
    "\n",
    "# Convertir l'écart moyen en pourcentage d'écart moyen\n",
    "ecart_moyen_pct = (ecart_moyen / moyenne_y_val) * 100\n",
    "\n",
    "print(\"Pourcentage d'écart moyen:\", ecart_moyen_pct, \"%\")\n",
    "print(\"Plus gros écart constaté :\", max_ecart, \"€\")\n",
    "print(\"Plus petit écart constaté :\", min_ecart, \"€\")"
   ],
   "metadata": {
    "collapsed": false,
    "is_executing": true
   },
   "id": "5b1202d9179bf1bf",
   "execution_count": null
  }
 ],
 "metadata": {
  "kernelspec": {
   "display_name": "Python 3",
   "language": "python",
   "name": "python3"
  },
  "language_info": {
   "codemirror_mode": {
    "name": "ipython",
    "version": 2
   },
   "file_extension": ".py",
   "mimetype": "text/x-python",
   "name": "python",
   "nbconvert_exporter": "python",
   "pygments_lexer": "ipython2",
   "version": "2.7.6"
  }
 },
 "nbformat": 4,
 "nbformat_minor": 5
}
