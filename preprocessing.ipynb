{
 "cells": [
  {
   "cell_type": "code",
   "execution_count": 126,
   "id": "initial_id",
   "metadata": {
    "collapsed": true,
    "ExecuteTime": {
     "end_time": "2024-02-21T15:05:18.008707Z",
     "start_time": "2024-02-21T15:05:17.739473300Z"
    }
   },
   "outputs": [
    {
     "name": "stdout",
     "output_type": "stream",
     "text": [
      "                Id   MSSubClass  LotFrontage        LotArea  OverallQual  \\\n",
      "count  1460.000000  1460.000000  1201.000000    1460.000000  1460.000000   \n",
      "mean    730.500000    56.897260    70.049958   10516.828082     6.099315   \n",
      "std     421.610009    42.300571    24.284752    9981.264932     1.382997   \n",
      "min       1.000000    20.000000    21.000000    1300.000000     1.000000   \n",
      "25%     365.750000    20.000000    59.000000    7553.500000     5.000000   \n",
      "50%     730.500000    50.000000    69.000000    9478.500000     6.000000   \n",
      "75%    1095.250000    70.000000    80.000000   11601.500000     7.000000   \n",
      "max    1460.000000   190.000000   313.000000  215245.000000    10.000000   \n",
      "\n",
      "       OverallCond    YearBuilt  YearRemodAdd   MasVnrArea   BsmtFinSF1  ...  \\\n",
      "count  1460.000000  1460.000000   1460.000000  1452.000000  1460.000000  ...   \n",
      "mean      5.575342  1971.267808   1984.865753   103.685262   443.639726  ...   \n",
      "std       1.112799    30.202904     20.645407   181.066207   456.098091  ...   \n",
      "min       1.000000  1872.000000   1950.000000     0.000000     0.000000  ...   \n",
      "25%       5.000000  1954.000000   1967.000000     0.000000     0.000000  ...   \n",
      "50%       5.000000  1973.000000   1994.000000     0.000000   383.500000  ...   \n",
      "75%       6.000000  2000.000000   2004.000000   166.000000   712.250000  ...   \n",
      "max       9.000000  2010.000000   2010.000000  1600.000000  5644.000000  ...   \n",
      "\n",
      "        WoodDeckSF  OpenPorchSF  EnclosedPorch    3SsnPorch  ScreenPorch  \\\n",
      "count  1460.000000  1460.000000    1460.000000  1460.000000  1460.000000   \n",
      "mean     94.244521    46.660274      21.954110     3.409589    15.060959   \n",
      "std     125.338794    66.256028      61.119149    29.317331    55.757415   \n",
      "min       0.000000     0.000000       0.000000     0.000000     0.000000   \n",
      "25%       0.000000     0.000000       0.000000     0.000000     0.000000   \n",
      "50%       0.000000    25.000000       0.000000     0.000000     0.000000   \n",
      "75%     168.000000    68.000000       0.000000     0.000000     0.000000   \n",
      "max     857.000000   547.000000     552.000000   508.000000   480.000000   \n",
      "\n",
      "          PoolArea       MiscVal       MoSold       YrSold      SalePrice  \n",
      "count  1460.000000   1460.000000  1460.000000  1460.000000    1460.000000  \n",
      "mean      2.758904     43.489041     6.321918  2007.815753  180921.195890  \n",
      "std      40.177307    496.123024     2.703626     1.328095   79442.502883  \n",
      "min       0.000000      0.000000     1.000000  2006.000000   34900.000000  \n",
      "25%       0.000000      0.000000     5.000000  2007.000000  129975.000000  \n",
      "50%       0.000000      0.000000     6.000000  2008.000000  163000.000000  \n",
      "75%       0.000000      0.000000     8.000000  2009.000000  214000.000000  \n",
      "max     738.000000  15500.000000    12.000000  2010.000000  755000.000000  \n",
      "\n",
      "[8 rows x 38 columns]\n"
     ]
    }
   ],
   "source": [
    "import pandas as pd\n",
    "import numpy as np\n",
    "\n",
    "df = pd.read_csv('train.csv')\n",
    "\n",
    "print(df.describe())"
   ]
  },
  {
   "cell_type": "code",
   "outputs": [
    {
     "name": "stdout",
     "output_type": "stream",
     "text": [
      "['MSSubClass', 'MSZoning', 'LotFrontage', 'LotArea', 'Street', 'Alley', 'LotShape', 'LandContour', 'Utilities', 'LotConfig', 'LandSlope', 'Neighborhood', 'Condition1', 'Condition2', 'BldgType', 'HouseStyle', 'OverallQual', 'OverallCond', 'YearBuilt', 'YearRemodAdd', 'RoofStyle', 'RoofMatl', 'Exterior1st', 'Exterior2nd', 'MasVnrType', 'MasVnrArea', 'ExterQual', 'ExterCond', 'Foundation', 'BsmtQual', 'BsmtCond', 'BsmtExposure', 'BsmtFinType1', 'BsmtFinSF1', 'BsmtFinType2', 'BsmtFinSF2', 'BsmtUnfSF', 'TotalBsmtSF', 'Heating', 'HeatingQC', 'CentralAir', 'Electrical', '1stFlrSF', '2ndFlrSF', 'LowQualFinSF', 'GrLivArea', 'BsmtFullBath', 'BsmtHalfBath', 'FullBath', 'HalfBath', 'BedroomAbvGr', 'KitchenAbvGr', 'KitchenQual', 'TotRmsAbvGrd', 'Functional', 'Fireplaces', 'FireplaceQu', 'GarageType', 'GarageYrBlt', 'GarageFinish', 'GarageCars', 'GarageArea', 'GarageQual', 'GarageCond', 'PavedDrive', 'WoodDeckSF', 'OpenPorchSF', 'EnclosedPorch', '3SsnPorch', 'ScreenPorch', 'PoolArea', 'PoolQC', 'Fence', 'MiscFeature', 'MiscVal', 'MoSold', 'YrSold', 'SaleType', 'SaleCondition']\n"
     ]
    }
   ],
   "source": [
    "colonnes = df.columns.tolist()\n",
    "colonnes.remove('Id')\n",
    "colonnes.remove('SalePrice')\n",
    "print(colonnes)"
   ],
   "metadata": {
    "collapsed": false,
    "ExecuteTime": {
     "end_time": "2024-02-21T15:05:20.569220700Z",
     "start_time": "2024-02-21T15:05:20.560560800Z"
    }
   },
   "id": "da236f1d18bb2b95",
   "execution_count": 127
  },
  {
   "cell_type": "code",
   "outputs": [],
   "source": [
    "df = df.fillna('NO')"
   ],
   "metadata": {
    "collapsed": false,
    "ExecuteTime": {
     "end_time": "2024-02-21T15:05:24.670577500Z",
     "start_time": "2024-02-21T15:05:24.654251100Z"
    }
   },
   "id": "391e010c2766ec10",
   "execution_count": 128
  },
  {
   "cell_type": "code",
   "outputs": [
    {
     "name": "stdout",
     "output_type": "stream",
     "text": [
      "Prix minimal 34900\n",
      "Prix maximal 755000\n"
     ]
    }
   ],
   "source": [
    "min_price = df.SalePrice.min()\n",
    "print('Prix minimal',min_price)\n",
    "max_price = df.SalePrice.max()\n",
    "print('Prix maximal',max_price)"
   ],
   "metadata": {
    "collapsed": false,
    "ExecuteTime": {
     "end_time": "2024-02-21T15:05:31.551755800Z",
     "start_time": "2024-02-21T15:05:31.544792300Z"
    }
   },
   "id": "661a43149b2957f2",
   "execution_count": 129
  },
  {
   "cell_type": "code",
   "outputs": [],
   "source": [
    "fourchette1 = 100000\n",
    "fourchette2 = 200000\n",
    "fourchette3 = 300000\n",
    "fourchette4 = 400000\n",
    "fourchette5 = 500000\n",
    "fourchette6 = 600000\n",
    "fourchettes = [min_price, fourchette1, fourchette2, fourchette3, fourchette4, fourchette5, fourchette6, max_price]\n"
   ],
   "metadata": {
    "collapsed": false,
    "ExecuteTime": {
     "end_time": "2024-02-21T15:05:32.835011300Z",
     "start_time": "2024-02-21T15:05:32.822792300Z"
    }
   },
   "id": "1af4cbaf6ec1bb6f",
   "execution_count": 130
  },
  {
   "cell_type": "code",
   "outputs": [],
   "source": [
    "def afficher_valeurs_frequentes(colonne):\n",
    "    hashmap = {}\n",
    "    for index,fourchette in enumerate(fourchettes):\n",
    "        if index < (len(fourchettes)-1):\n",
    "\n",
    "            prix_min = fourchettes[index]  \n",
    "            prix_max = fourchettes[index+1] \n",
    "            price_filtered_lots = df[(df['SalePrice'] >= prix_min) & (df['SalePrice'] <= prix_max)]\n",
    "\n",
    "            comptage_valeurs = price_filtered_lots[colonne].value_counts()\n",
    "            #print(comptage_valeurs)\n",
    "            \n",
    "            most_encoutered_value = comptage_valeurs.idxmax()\n",
    "            if type(most_encoutered_value) in (int, float, complex, np.int64):\n",
    "                #print('Valeur numérique on va calculer la moyenne')\n",
    "                most_encoutered_value = comptage_valeurs.mean()\n",
    "            second_encoutered_value = 'Aucune'\n",
    "            if len(comptage_valeurs) > 1:\n",
    "                comptage_valeurs = comptage_valeurs.drop(comptage_valeurs.idxmax())\n",
    "                second_encoutered_value = comptage_valeurs.idxmax()\n",
    "            \n",
    "            hashmap[prix_min,'-',prix_max] = most_encoutered_value\n",
    "            #print(\"La valeur la plus fréquente pour la colonne\", colonne, \"lorsque le prix est entre\", prix_min, \"et\", prix_max, \"est :\", most_encoutered_value, 'suivie de : ', second_encoutered_value)\n",
    "    return hashmap"
   ],
   "metadata": {
    "collapsed": false,
    "ExecuteTime": {
     "end_time": "2024-02-21T15:06:45.992161800Z",
     "start_time": "2024-02-21T15:06:45.975392700Z"
    }
   },
   "id": "5c9dc97d3577dc84",
   "execution_count": 134
  },
  {
   "cell_type": "code",
   "outputs": [],
   "source": [
    "def score_hashmap(hashmap):\n",
    "    score = 0\n",
    "    hashmap_keys_values = list(hashmap.values())\n",
    "    for index in range(len(hashmap_keys_values)):\n",
    "        percent = 0.80\n",
    "        if index == 0 :\n",
    "            #Faire pour les valeurs numérique un score selon valeur proche ou pas.\n",
    "            if type(hashmap_keys_values[0]) in (int, float, complex, np.int64):\n",
    "                print(hashmap_keys_values[0], '-', hashmap_keys_values[3])\n",
    "                if abs(hashmap_keys_values[0] - hashmap_keys_values[3]) < percent  * hashmap_keys_values[0] :\n",
    "                    score += 1\n",
    "                    if abs(hashmap_keys_values[3] - hashmap_keys_values[5]) < percent  * hashmap_keys_values[0] : score +=2\n",
    "                    if abs(hashmap_keys_values[3] - hashmap_keys_values[6]) < percent  * hashmap_keys_values[0] : score +=2\n",
    "                if abs(hashmap_keys_values[0] - hashmap_keys_values[5]) < percent  * hashmap_keys_values[0] : score += 2\n",
    "                if abs(hashmap_keys_values[0] - hashmap_keys_values[6]) < percent  * hashmap_keys_values[0] : score += 5\n",
    "                    \n",
    "            if type(hashmap_keys_values[0]) not in (int, float, complex, np.int64):\n",
    "                if hashmap_keys_values[0] != hashmap_keys_values[3]:\n",
    "                    score += 1\n",
    "                    if hashmap_keys_values[3] != hashmap_keys_values[5]:score += 2\n",
    "                    if hashmap_keys_values[3] != hashmap_keys_values[6]:score += 2\n",
    "                if hashmap_keys_values[0] != hashmap_keys_values[5]:score += 2\n",
    "                if hashmap_keys_values[0] != hashmap_keys_values[6]:score += 5\n",
    "            \n",
    "            \n",
    "    return score"
   ],
   "metadata": {
    "collapsed": false,
    "ExecuteTime": {
     "end_time": "2024-02-21T15:11:35.363229300Z",
     "start_time": "2024-02-21T15:11:35.348100800Z"
    }
   },
   "id": "79d5cb9f465606a8",
   "execution_count": 147
  },
  {
   "cell_type": "code",
   "outputs": [
    {
     "name": "stdout",
     "output_type": "stream",
     "text": [
      "8\n"
     ]
    }
   ],
   "source": [
    "print(score_hashmap(afficher_valeurs_frequentes('Neighborhood')))"
   ],
   "metadata": {
    "collapsed": false,
    "ExecuteTime": {
     "end_time": "2024-02-21T14:33:43.430774500Z",
     "start_time": "2024-02-21T14:33:43.414024300Z"
    }
   },
   "id": "1978cc43d7347403",
   "execution_count": 88
  },
  {
   "cell_type": "code",
   "outputs": [
    {
     "name": "stdout",
     "output_type": "stream",
     "text": [
      "[('1stFlrSF', 12), ('2ndFlrSF', 12), ('3SsnPorch', 12), ('BedroomAbvGr', 12), ('BsmtFinSF1', 12), ('BsmtFinSF2', 12), ('BsmtFullBath', 12), ('BsmtHalfBath', 12), ('BsmtUnfSF', 12), ('EnclosedPorch', 12), ('ExterQual', 12), ('Fireplaces', 12), ('FullBath', 12), ('GarageArea', 12), ('GarageCars', 12), ('GarageYrBlt', 12), ('GrLivArea', 12), ('HalfBath', 12), ('KitchenAbvGr', 12), ('KitchenQual', 12), ('LotFrontage', 12), ('LowQualFinSF', 12), ('MSSubClass', 12), ('MasVnrArea', 12), ('MiscVal', 12), ('MoSold', 12), ('Neighborhood', 12), ('OpenPorchSF', 12), ('OverallCond', 12), ('OverallQual', 12), ('PoolArea', 12), ('ScreenPorch', 12), ('TotRmsAbvGrd', 12), ('TotalBsmtSF', 12), ('WoodDeckSF', 12), ('YearBuilt', 12), ('YearRemodAdd', 12), ('YrSold', 12)]\n"
     ]
    }
   ],
   "source": [
    "colonnes_pertinentes = {}\n",
    "for colonne in colonnes:\n",
    "    if score_hashmap(afficher_valeurs_frequentes(colonne)) >= 12 : colonnes_pertinentes[colonne] = score_hashmap(afficher_valeurs_frequentes(colonne))\n",
    "#print(colonnes_pertinentes)\n",
    "\n",
    "sorted_colonnes_pertinentes = sorted(colonnes_pertinentes.items())\n",
    "print(sorted_colonnes_pertinentes)"
   ],
   "metadata": {
    "collapsed": false,
    "ExecuteTime": {
     "end_time": "2024-02-21T15:11:38.824245500Z",
     "start_time": "2024-02-21T15:11:38.257639100Z"
    }
   },
   "id": "a34503cb4f592196",
   "execution_count": 148
  },
  {
   "cell_type": "code",
   "outputs": [
    {
     "data": {
      "text/plain": "{(34900, '-', 100000): 4.92,\n (100000, '-', 200000): 4.688775510204081,\n (200000, '-', 300000): 3.076923076923077,\n (300000, '-', 400000): 1.5535714285714286,\n (400000, '-', 500000): 1.1875,\n (500000, '-', 600000): 1.25,\n (600000, '-', 755000): 1.0}"
     },
     "execution_count": 136,
     "metadata": {},
     "output_type": "execute_result"
    }
   ],
   "source": [
    "afficher_valeurs_frequentes('WoodDeckSF')"
   ],
   "metadata": {
    "collapsed": false,
    "ExecuteTime": {
     "end_time": "2024-02-21T15:07:13.395105600Z",
     "start_time": "2024-02-21T15:07:13.362340Z"
    }
   },
   "id": "adada68b6627db2c",
   "execution_count": 136
  },
  {
   "cell_type": "code",
   "outputs": [],
   "source": [],
   "metadata": {
    "collapsed": false
   },
   "id": "47e2c06b8e2d1ffd"
  }
 ],
 "metadata": {
  "kernelspec": {
   "display_name": "Python 3",
   "language": "python",
   "name": "python3"
  },
  "language_info": {
   "codemirror_mode": {
    "name": "ipython",
    "version": 2
   },
   "file_extension": ".py",
   "mimetype": "text/x-python",
   "name": "python",
   "nbconvert_exporter": "python",
   "pygments_lexer": "ipython2",
   "version": "2.7.6"
  }
 },
 "nbformat": 4,
 "nbformat_minor": 5
}
